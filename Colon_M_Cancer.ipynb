{
 "cells": [
  {
   "cell_type": "code",
   "execution_count": 1,
   "id": "73e94a2d",
   "metadata": {},
   "outputs": [],
   "source": [
    "import pandas as pd\n",
    "import numpy as np\n",
    "import matplotlib.pyplot as plt\n",
    "from math import sqrt\n",
    "import seaborn as sns\n",
    "from scipy.stats import pearsonr\n",
    "import statistics\n",
    "import copy\n",
    "\n",
    "from sklearn.model_selection import train_test_split\n",
    "from sklearn.ensemble import RandomForestClassifier\n",
    "from sklearn.model_selection import LeaveOneOut, cross_val_score, cross_val_predict\n",
    "from sklearn import metrics\n",
    "from sklearn.metrics import f1_score\n",
    "\n",
    "from sklearn import svm"
   ]
  },
  {
   "cell_type": "code",
   "execution_count": 2,
   "id": "a047b12e",
   "metadata": {},
   "outputs": [],
   "source": [
    "resistant = pd.read_csv('C:\\\\Users\\\\Muskan Agarwal\\\\Documents\\\\CB\\\\Dissertation\\\\Dataset\\\\akashM.techdatasets\\\\Colon_M\\\\Colon_mr.txt', header=None, delimiter=r\"\\s+\")\n",
    "\n",
    "control = pd.read_csv('C:\\\\Users\\\\Muskan Agarwal\\\\Documents\\\\CB\\\\Dissertation\\\\Dataset\\\\akashM.techdatasets\\\\Colon_M\\\\Colon_mc.txt', header=None, delimiter=r\"\\s+\")\n",
    "\n",
    "known = pd.read_csv(\"C:\\\\Users\\\\Muskan Agarwal\\\\Documents\\\\CB\\\\Dissertation\\\\Dataset\\\\akashM.techdatasets\\\\Colon_M\\\\Known_Colon_M.csv\")\n",
    "\n",
    "name = pd.read_csv('C:\\\\Users\\\\Muskan Agarwal\\\\Documents\\\\CB\\\\Dissertation\\\\Dataset\\\\akashM.techdatasets\\\\Colon_M\\\\m colonmiRNA names.txt', header=None)\n"
   ]
  },
  {
   "cell_type": "code",
   "execution_count": 3,
   "id": "06e89602",
   "metadata": {},
   "outputs": [
    {
     "data": {
      "text/html": [
       "<div>\n",
       "<style scoped>\n",
       "    .dataframe tbody tr th:only-of-type {\n",
       "        vertical-align: middle;\n",
       "    }\n",
       "\n",
       "    .dataframe tbody tr th {\n",
       "        vertical-align: top;\n",
       "    }\n",
       "\n",
       "    .dataframe thead th {\n",
       "        text-align: right;\n",
       "    }\n",
       "</style>\n",
       "<table border=\"1\" class=\"dataframe\">\n",
       "  <thead>\n",
       "    <tr style=\"text-align: right;\">\n",
       "      <th></th>\n",
       "      <th>0</th>\n",
       "      <th>1</th>\n",
       "      <th>2</th>\n",
       "      <th>3</th>\n",
       "      <th>4</th>\n",
       "      <th>5</th>\n",
       "      <th>6</th>\n",
       "      <th>7</th>\n",
       "      <th>8</th>\n",
       "      <th>9</th>\n",
       "      <th>...</th>\n",
       "      <th>713</th>\n",
       "      <th>714</th>\n",
       "      <th>715</th>\n",
       "      <th>716</th>\n",
       "      <th>717</th>\n",
       "      <th>718</th>\n",
       "      <th>719</th>\n",
       "      <th>720</th>\n",
       "      <th>721</th>\n",
       "      <th>722</th>\n",
       "    </tr>\n",
       "  </thead>\n",
       "  <tbody>\n",
       "    <tr>\n",
       "      <th>0</th>\n",
       "      <td>11037.5</td>\n",
       "      <td>-7.46623</td>\n",
       "      <td>5363.19</td>\n",
       "      <td>3.32888</td>\n",
       "      <td>969.683</td>\n",
       "      <td>0.565693</td>\n",
       "      <td>3221.32</td>\n",
       "      <td>9.02072</td>\n",
       "      <td>5287.27</td>\n",
       "      <td>2.47449</td>\n",
       "      <td>...</td>\n",
       "      <td>-12.4572</td>\n",
       "      <td>-9.982900</td>\n",
       "      <td>2.58784</td>\n",
       "      <td>19.7765</td>\n",
       "      <td>-12.8541</td>\n",
       "      <td>315.573</td>\n",
       "      <td>-7.00533</td>\n",
       "      <td>6.27522</td>\n",
       "      <td>575.526</td>\n",
       "      <td>-5.119980</td>\n",
       "    </tr>\n",
       "    <tr>\n",
       "      <th>1</th>\n",
       "      <td>23310.7</td>\n",
       "      <td>2.46680</td>\n",
       "      <td>11332.90</td>\n",
       "      <td>5.41868</td>\n",
       "      <td>1911.700</td>\n",
       "      <td>-12.401500</td>\n",
       "      <td>6884.39</td>\n",
       "      <td>14.40860</td>\n",
       "      <td>11895.70</td>\n",
       "      <td>10.64720</td>\n",
       "      <td>...</td>\n",
       "      <td>13.1608</td>\n",
       "      <td>18.536800</td>\n",
       "      <td>-4.09915</td>\n",
       "      <td>92.8066</td>\n",
       "      <td>-24.5146</td>\n",
       "      <td>686.684</td>\n",
       "      <td>7.79242</td>\n",
       "      <td>-5.74272</td>\n",
       "      <td>855.181</td>\n",
       "      <td>-27.198500</td>\n",
       "    </tr>\n",
       "    <tr>\n",
       "      <th>2</th>\n",
       "      <td>18546.7</td>\n",
       "      <td>-7.18517</td>\n",
       "      <td>7330.94</td>\n",
       "      <td>7.55638</td>\n",
       "      <td>1857.150</td>\n",
       "      <td>-9.353450</td>\n",
       "      <td>5465.06</td>\n",
       "      <td>10.34910</td>\n",
       "      <td>7317.24</td>\n",
       "      <td>16.15740</td>\n",
       "      <td>...</td>\n",
       "      <td>1.3897</td>\n",
       "      <td>0.255608</td>\n",
       "      <td>-9.90477</td>\n",
       "      <td>98.9957</td>\n",
       "      <td>-13.0292</td>\n",
       "      <td>763.165</td>\n",
       "      <td>-2.60348</td>\n",
       "      <td>1.06545</td>\n",
       "      <td>912.944</td>\n",
       "      <td>0.870409</td>\n",
       "    </tr>\n",
       "  </tbody>\n",
       "</table>\n",
       "<p>3 rows × 723 columns</p>\n",
       "</div>"
      ],
      "text/plain": [
       "       0        1         2        3         4          5        6    \\\n",
       "0  11037.5 -7.46623   5363.19  3.32888   969.683   0.565693  3221.32   \n",
       "1  23310.7  2.46680  11332.90  5.41868  1911.700 -12.401500  6884.39   \n",
       "2  18546.7 -7.18517   7330.94  7.55638  1857.150  -9.353450  5465.06   \n",
       "\n",
       "        7         8         9    ...      713        714      715      716  \\\n",
       "0   9.02072   5287.27   2.47449  ... -12.4572  -9.982900  2.58784  19.7765   \n",
       "1  14.40860  11895.70  10.64720  ...  13.1608  18.536800 -4.09915  92.8066   \n",
       "2  10.34910   7317.24  16.15740  ...   1.3897   0.255608 -9.90477  98.9957   \n",
       "\n",
       "       717      718      719      720      721        722  \n",
       "0 -12.8541  315.573 -7.00533  6.27522  575.526  -5.119980  \n",
       "1 -24.5146  686.684  7.79242 -5.74272  855.181 -27.198500  \n",
       "2 -13.0292  763.165 -2.60348  1.06545  912.944   0.870409  \n",
       "\n",
       "[3 rows x 723 columns]"
      ]
     },
     "execution_count": 3,
     "metadata": {},
     "output_type": "execute_result"
    }
   ],
   "source": [
    "resistant = resistant.T\n",
    "resistant"
   ]
  },
  {
   "cell_type": "code",
   "execution_count": 4,
   "id": "7de6e570",
   "metadata": {},
   "outputs": [],
   "source": [
    "control = control.T\n"
   ]
  },
  {
   "cell_type": "code",
   "execution_count": 5,
   "id": "9c9e2755",
   "metadata": {},
   "outputs": [],
   "source": [
    "known_control, known_resistant, index_name, index_known = [], [], [], []\n",
    "\n",
    "for i in range(len(known)):\n",
    "    for j in range(len(name)):\n",
    "        if known[known.columns[1]][i] == name[0][j]:\n",
    "            known_control.append(control[j])\n",
    "            known_resistant.append(resistant[j])\n",
    "            index_name.append(j)\n",
    "            index_known.append(i)\n",
    "            break\n"
   ]
  },
  {
   "cell_type": "code",
   "execution_count": 6,
   "id": "b274d5c2",
   "metadata": {},
   "outputs": [
    {
     "data": {
      "text/plain": [
       "9"
      ]
     },
     "execution_count": 6,
     "metadata": {},
     "output_type": "execute_result"
    }
   ],
   "source": [
    "len(known_resistant)"
   ]
  },
  {
   "cell_type": "code",
   "execution_count": 8,
   "id": "53de8f23",
   "metadata": {},
   "outputs": [],
   "source": [
    "columns = len(control.T)\n",
    "mr = []\n",
    "for i in range(columns):\n",
    "    mr.append(resistant[i].mean())\n",
    "\n",
    "mc = []\n",
    "for i in range(columns):\n",
    "    mc.append(control[i].mean())\n"
   ]
  },
  {
   "cell_type": "code",
   "execution_count": 9,
   "id": "777e23e4",
   "metadata": {},
   "outputs": [],
   "source": [
    "known_mc, known_mr = [], []\n",
    "\n",
    "for i in range(len(known)):\n",
    "    for j in range(len(name)):\n",
    "        if known[known.columns[1]][i] == name[0][j]:\n",
    "            known_mc.append(mc[j])\n",
    "            known_mr.append(mr[j])\n"
   ]
  },
  {
   "cell_type": "code",
   "execution_count": 10,
   "id": "a5c57ff2",
   "metadata": {},
   "outputs": [],
   "source": [
    "D, F, corr, corr_known, D_known, F_known, scaled_corr, scaled_corr_known  = [], [], [], [], [], [], [], []\n",
    "for x in range(columns):\n",
    "    D.append(abs(mr[x] - mc[x]))\n",
    "    \n",
    "    if mc[x] >= mr[x]:\n",
    "        F.append((mc[x] - mr[x]) / mc[x])\n",
    "    else:\n",
    "        F.append((mr[x] - mc[x]) / mr[x])\n",
    "        \n",
    "    corr.append(control[x].corr(resistant[x]))\n",
    "    scaled_corr.append((1-corr[x])/2)\n",
    "    \n",
    "    \n",
    "    \n",
    "for x in range(len(known_control)):\n",
    "    D_known.append(abs(known_mr[x] - known_mc[x]))\n",
    "    \n",
    "    if known_mc[x] >= known_mr[x]:\n",
    "        F_known.append((known_mc[x] - known_mr[x]) / known_mc[x])\n",
    "    else:\n",
    "        F_known.append((known_mr[x] -known_mc[x]) / known_mr[x])\n",
    "    \n",
    "    corr_known.append(known_control[x].corr(known_resistant[x]))\n",
    "    scaled_corr_known.append((1-corr_known[x])/2 )"
   ]
  },
  {
   "cell_type": "code",
   "execution_count": 11,
   "id": "72b3f5c5",
   "metadata": {},
   "outputs": [
    {
     "name": "stdout",
     "output_type": "stream",
     "text": [
      "min_avg_rank = 720900, p = 0.1, a= 0.9899999999999995, b=0.1, c=0.1 \n"
     ]
    }
   ],
   "source": [
    "P, A, B, C, M = [], [], [], [], []\n",
    "for p in np.arange(0.1, 1.6, 0.1):\n",
    "    for a in np.arange(.1, 1, 0.01):\n",
    "        for b in np.arange(0.1, 1, 0.01):\n",
    "            for c in np.arange(0.1, 1, 0.01):\n",
    "                l = []\n",
    "                for x in range(len(known_control)):\n",
    "                     l.append((a*D_known[x] + b*(abs(F_known[x])**p) + c*scaled_corr_known[x])/(a + b + c))\n",
    "                P.append(p)\n",
    "                A.append(a)\n",
    "                B.append(b)\n",
    "                C.append(c)\n",
    "                M.append(sum(l) / len(l))\n",
    "                \n",
    "min_avg_rank = M.index(max(M))\n",
    "p, a, b, c = P[min_avg_rank], A[min_avg_rank], B[min_avg_rank], C[min_avg_rank]\n",
    "print(f\"min_avg_rank = {min_avg_rank}, p = {p}, a= {a}, b={b}, c={c} \")\n"
   ]
  },
  {
   "cell_type": "code",
   "execution_count": 13,
   "id": "bd940287",
   "metadata": {},
   "outputs": [],
   "source": [
    "Q = []\n",
    "for x in range(len(control.T)):\n",
    "    Q.append((a*D[x] + b*(abs(F[x])**p) + c*scaled_corr[x])/(a + b + c))"
   ]
  },
  {
   "cell_type": "code",
   "execution_count": 15,
   "id": "2c71a005",
   "metadata": {},
   "outputs": [],
   "source": [
    "G = [(x, i) for i, x in enumerate(Q)]\n",
    "G.sort(reverse = True)\n",
    "E = G[:30]"
   ]
  },
  {
   "cell_type": "code",
   "execution_count": 18,
   "id": "c025e370",
   "metadata": {},
   "outputs": [
    {
     "name": "stdout",
     "output_type": "stream",
     "text": [
      "name:hsa-miR-193b, index in name:163, rank: 11\n",
      "name:hsa-miR-210, index in name:228, rank: 12\n",
      "name:hsa-miR-365, index in name:331, rank: 15\n",
      "name:hsa-miR-455-3p, index in name:395, rank: 17\n",
      "name:hsa-miR-27b, index in name:245, rank: 18\n"
     ]
    }
   ],
   "source": [
    "\n",
    "for i in range(len(E)):\n",
    "    for j in range(len(index_name)):\n",
    "        if E[i][1] == index_name[j]:\n",
    "            print(f'name:{name[0][index_name[j]]}, index in name:{index_name[j]}, rank: {i}')\n",
    "            break\n",
    "            "
   ]
  },
  {
   "cell_type": "code",
   "execution_count": 19,
   "id": "158c3bce",
   "metadata": {},
   "outputs": [],
   "source": [
    "l = int(len(F) * 0.05)\n",
    "H = G[ : l]"
   ]
  },
  {
   "cell_type": "code",
   "execution_count": 20,
   "id": "1dbe57f0",
   "metadata": {},
   "outputs": [],
   "source": [
    "mat = np.zeros((len(control) + len(resistant), len(H) + 1), dtype = 'float64')\n",
    "for i in range(mat.shape[0]):\n",
    "    for j in range(mat.shape[1]):\n",
    "        if i < len(resistant):\n",
    "            if j != mat.shape[1] - 1:\n",
    "                mat[i][j] = resistant[H[j][1]][i]\n",
    "            else:\n",
    "                mat[i][j] = 0\n",
    "        else:\n",
    "            if j != mat.shape[1] - 1:\n",
    "                mat[i][j] = control[H[j][1]][i - len(resistant)]\n",
    "            else:\n",
    "                mat[i][j] = 1"
   ]
  },
  {
   "cell_type": "code",
   "execution_count": 22,
   "id": "1e8ab847",
   "metadata": {},
   "outputs": [],
   "source": [
    "X, y = mat[:,:-1], mat[:,-1:]"
   ]
  },
  {
   "cell_type": "code",
   "execution_count": 23,
   "id": "d917cc89",
   "metadata": {},
   "outputs": [
    {
     "data": {
      "text/plain": [
       "((6, 36), (6, 1))"
      ]
     },
     "execution_count": 23,
     "metadata": {},
     "output_type": "execute_result"
    }
   ],
   "source": [
    "X.shape, y.shape"
   ]
  },
  {
   "cell_type": "code",
   "execution_count": 34,
   "id": "b5e17bd1",
   "metadata": {},
   "outputs": [
    {
     "name": "stdout",
     "output_type": "stream",
     "text": [
      "Accuracy: 0.8333333333333334\n",
      "Specificity: 1.0\n",
      "Sensitivity: 0.6666666666666666\n",
      "MCC: 0.7071067811865476\n",
      "F1-score: 0.8\n"
     ]
    },
    {
     "name": "stderr",
     "output_type": "stream",
     "text": [
      "c:\\users\\muskan agarwal\\appdata\\local\\programs\\python\\python37\\lib\\site-packages\\ipykernel_launcher.py:16: DataConversionWarning: A column-vector y was passed when a 1d array was expected. Please change the shape of y to (n_samples,), for example using ravel().\n",
      "  \n",
      "c:\\users\\muskan agarwal\\appdata\\local\\programs\\python\\python37\\lib\\site-packages\\ipykernel_launcher.py:16: DataConversionWarning: A column-vector y was passed when a 1d array was expected. Please change the shape of y to (n_samples,), for example using ravel().\n",
      "  \n",
      "c:\\users\\muskan agarwal\\appdata\\local\\programs\\python\\python37\\lib\\site-packages\\ipykernel_launcher.py:16: DataConversionWarning: A column-vector y was passed when a 1d array was expected. Please change the shape of y to (n_samples,), for example using ravel().\n",
      "  \n",
      "c:\\users\\muskan agarwal\\appdata\\local\\programs\\python\\python37\\lib\\site-packages\\ipykernel_launcher.py:16: DataConversionWarning: A column-vector y was passed when a 1d array was expected. Please change the shape of y to (n_samples,), for example using ravel().\n",
      "  \n",
      "c:\\users\\muskan agarwal\\appdata\\local\\programs\\python\\python37\\lib\\site-packages\\ipykernel_launcher.py:16: DataConversionWarning: A column-vector y was passed when a 1d array was expected. Please change the shape of y to (n_samples,), for example using ravel().\n",
      "  \n",
      "c:\\users\\muskan agarwal\\appdata\\local\\programs\\python\\python37\\lib\\site-packages\\ipykernel_launcher.py:16: DataConversionWarning: A column-vector y was passed when a 1d array was expected. Please change the shape of y to (n_samples,), for example using ravel().\n",
      "  \n"
     ]
    }
   ],
   "source": [
    "from sklearn.metrics import accuracy_score, confusion_matrix, matthews_corrcoef, f1_score\n",
    "from sklearn.ensemble import RandomForestClassifier\n",
    "from sklearn.model_selection import LeaveOneOut\n",
    "\n",
    "# Create the Random Forest classifier\n",
    "clf = RandomForestClassifier(n_estimators=2, random_state=27)\n",
    "\n",
    "# Perform Leave-One-Out Cross-Validation\n",
    "predictions = []\n",
    "true_labels = []\n",
    "for train_index, test_index in LeaveOneOut().split(X):\n",
    "    X_train, X_test = X[train_index], X[test_index]\n",
    "    y_train, y_test = y[train_index], y[test_index]\n",
    "    \n",
    "    # Fit the classifier on the training data\n",
    "    clf.fit(X_train, y_train)\n",
    "    \n",
    "    # Make predictions on the test data\n",
    "    y_pred = clf.predict(X_test)\n",
    "    \n",
    "    # Collect the predictions and true labels\n",
    "    predictions.append(y_pred[0])\n",
    "    true_labels.append(y_test[0])\n",
    "\n",
    "# Calculate accuracy, specificity, sensitivity, MCC, and F1-score\n",
    "accuracy = accuracy_score(true_labels, predictions)\n",
    "tn, fp, fn, tp = confusion_matrix(true_labels, predictions).ravel()\n",
    "specificity = tn / (tn + fp)\n",
    "sensitivity = tp / (tp + fn)\n",
    "mcc = matthews_corrcoef(true_labels, predictions)\n",
    "f1 = f1_score(true_labels, predictions)\n",
    "\n",
    "# Print the results\n",
    "print(\"Accuracy:\", accuracy)\n",
    "print(\"Specificity:\", specificity)\n",
    "print(\"Sensitivity:\", sensitivity)\n",
    "print(\"MCC:\", mcc)\n",
    "print(\"F1-score:\", f1)\n"
   ]
  },
  {
   "cell_type": "code",
   "execution_count": 37,
   "id": "6b29fb2a",
   "metadata": {},
   "outputs": [
    {
     "name": "stdout",
     "output_type": "stream",
     "text": [
      "Accuracy: 0.8333333333333334\n",
      "Specificity: 1.0\n",
      "Sensitivity: 0.6666666666666666\n",
      "MCC: 0.7071067811865476\n",
      "F1-score: 0.8\n"
     ]
    },
    {
     "name": "stderr",
     "output_type": "stream",
     "text": [
      "c:\\users\\muskan agarwal\\appdata\\local\\programs\\python\\python37\\lib\\site-packages\\sklearn\\utils\\validation.py:993: DataConversionWarning: A column-vector y was passed when a 1d array was expected. Please change the shape of y to (n_samples, ), for example using ravel().\n",
      "  y = column_or_1d(y, warn=True)\n",
      "c:\\users\\muskan agarwal\\appdata\\local\\programs\\python\\python37\\lib\\site-packages\\sklearn\\utils\\validation.py:993: DataConversionWarning: A column-vector y was passed when a 1d array was expected. Please change the shape of y to (n_samples, ), for example using ravel().\n",
      "  y = column_or_1d(y, warn=True)\n",
      "c:\\users\\muskan agarwal\\appdata\\local\\programs\\python\\python37\\lib\\site-packages\\sklearn\\utils\\validation.py:993: DataConversionWarning: A column-vector y was passed when a 1d array was expected. Please change the shape of y to (n_samples, ), for example using ravel().\n",
      "  y = column_or_1d(y, warn=True)\n",
      "c:\\users\\muskan agarwal\\appdata\\local\\programs\\python\\python37\\lib\\site-packages\\sklearn\\utils\\validation.py:993: DataConversionWarning: A column-vector y was passed when a 1d array was expected. Please change the shape of y to (n_samples, ), for example using ravel().\n",
      "  y = column_or_1d(y, warn=True)\n",
      "c:\\users\\muskan agarwal\\appdata\\local\\programs\\python\\python37\\lib\\site-packages\\sklearn\\utils\\validation.py:993: DataConversionWarning: A column-vector y was passed when a 1d array was expected. Please change the shape of y to (n_samples, ), for example using ravel().\n",
      "  y = column_or_1d(y, warn=True)\n",
      "c:\\users\\muskan agarwal\\appdata\\local\\programs\\python\\python37\\lib\\site-packages\\sklearn\\utils\\validation.py:993: DataConversionWarning: A column-vector y was passed when a 1d array was expected. Please change the shape of y to (n_samples, ), for example using ravel().\n",
      "  y = column_or_1d(y, warn=True)\n"
     ]
    }
   ],
   "source": [
    "from sklearn import svm\n",
    "from sklearn.metrics import accuracy_score, confusion_matrix, matthews_corrcoef, f1_score\n",
    "from sklearn.model_selection import LeaveOneOut\n",
    "import numpy as np\n",
    "\n",
    "# Create the SVM classifier\n",
    "clf = svm.SVC(kernel='linear', C=1, random_state=42)\n",
    "\n",
    "# Perform Leave-One-Out Cross-Validation\n",
    "predictions = []\n",
    "true_labels = []\n",
    "for train_index, test_index in LeaveOneOut().split(X):\n",
    "    X_train, X_test = X[train_index], X[test_index]\n",
    "    y_train, y_test = y[train_index], y[test_index]\n",
    "    \n",
    "    # Fit the classifier on the training data\n",
    "    clf.fit(X_train, y_train)\n",
    "    \n",
    "    # Make predictions on the test data\n",
    "    y_pred = clf.predict(X_test)\n",
    "    \n",
    "    # Collect the predictions and true labels\n",
    "    predictions.append(y_pred[0])\n",
    "    true_labels.append(y_test[0])\n",
    "\n",
    "# Calculate accuracy, specificity, sensitivity, MCC, and F1-score\n",
    "accuracy = accuracy_score(true_labels, predictions)\n",
    "tn, fp, fn, tp = confusion_matrix(true_labels, predictions).ravel()\n",
    "specificity = tn / (tn + fp)\n",
    "sensitivity = tp / (tp + fn)\n",
    "mcc = matthews_corrcoef(true_labels, predictions)\n",
    "f1 = f1_score(true_labels, predictions)\n",
    "\n",
    "# Print the results\n",
    "print(\"Accuracy:\", accuracy)\n",
    "print(\"Specificity:\", specificity)\n",
    "print(\"Sensitivity:\", sensitivity)\n",
    "print(\"MCC:\", mcc)\n",
    "print(\"F1-score:\", f1)\n",
    "# print(\"Avg accuracy:\", np.mean(scores))\n"
   ]
  }
 ],
 "metadata": {
  "kernelspec": {
   "display_name": "Python 3 (ipykernel)",
   "language": "python",
   "name": "python3"
  },
  "language_info": {
   "codemirror_mode": {
    "name": "ipython",
    "version": 3
   },
   "file_extension": ".py",
   "mimetype": "text/x-python",
   "name": "python",
   "nbconvert_exporter": "python",
   "pygments_lexer": "ipython3",
   "version": "3.7.8"
  }
 },
 "nbformat": 4,
 "nbformat_minor": 5
}
